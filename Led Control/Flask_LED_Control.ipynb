{
 "cells": [
  {
   "cell_type": "code",
   "execution_count": 1,
   "metadata": {},
   "outputs": [],
   "source": [
    "# Import Dependencies\n",
    "from flask import Flask, render_template, request\n",
    "import serial"
   ]
  },
  {
   "cell_type": "code",
   "execution_count": 2,
   "metadata": {},
   "outputs": [],
   "source": [
    "# TO DO: Write a Function to Take in a Number i.e. \"0\" or \"1\" (nothing else) and send that number over serial to Arduino\n",
    "#        to control LED.\n",
    "\n",
    "# TO DO: Write a Function to Read data from Serial sent by Arduino.\n",
    "# ex. Arduino sends a True if it recieved a \"1\" and LED is ON. Same for \"0\"\n",
    "# Returns: led_status = True or False based on write conformation.\n",
    "def serial_read():\n",
    "    print('Reading from Arduino over Serial. . .')\n",
    "    return led_status\n",
    "\n",
    "# Function to Write Data over Serial to Arduino to turn LED ON/OFF \"0\" or \"1\"\n",
    "# Input: \"data\" to write to arduino i.e. \"0\" or \"1\".\n",
    "# Returns: Nothing\n",
    "def serial_write(data=None):\n",
    "    # Open Serial Port for Arduino\n",
    "    s = serial.Serial('COM4', 9600)\n",
    "    print('Writing {} to Arduino over Serial. . .'.format(data))\n",
    "    s.write(data.encode())"
   ]
  },
  {
   "cell_type": "code",
   "execution_count": 3,
   "metadata": {},
   "outputs": [
    {
     "name": "stderr",
     "output_type": "stream",
     "text": [
      " * Running on http://127.0.0.1:5000/ (Press CTRL+C to quit)\n",
      "127.0.0.1 - - [26/Jul/2018 17:26:18] \"\u001b[37mGET / HTTP/1.1\u001b[0m\" 200 -\n",
      "127.0.0.1 - - [26/Jul/2018 17:26:21] \"\u001b[37mPOST / HTTP/1.1\u001b[0m\" 200 -\n"
     ]
    },
    {
     "name": "stdout",
     "output_type": "stream",
     "text": [
      "LED ON. . .\n",
      "Writing 1 to Arduino over Serial. . .\n"
     ]
    },
    {
     "name": "stderr",
     "output_type": "stream",
     "text": [
      "127.0.0.1 - - [26/Jul/2018 17:26:34] \"\u001b[37mPOST / HTTP/1.1\u001b[0m\" 200 -\n"
     ]
    },
    {
     "name": "stdout",
     "output_type": "stream",
     "text": [
      "LED OFF. . .\n",
      "Writing 0 to Arduino over Serial. . .\n"
     ]
    },
    {
     "name": "stderr",
     "output_type": "stream",
     "text": [
      "127.0.0.1 - - [26/Jul/2018 17:26:47] \"\u001b[37mPOST / HTTP/1.1\u001b[0m\" 200 -\n"
     ]
    },
    {
     "name": "stdout",
     "output_type": "stream",
     "text": [
      "LED ON. . .\n",
      "Writing 1 to Arduino over Serial. . .\n"
     ]
    },
    {
     "name": "stderr",
     "output_type": "stream",
     "text": [
      "127.0.0.1 - - [26/Jul/2018 17:27:10] \"\u001b[37mPOST / HTTP/1.1\u001b[0m\" 200 -\n"
     ]
    },
    {
     "name": "stdout",
     "output_type": "stream",
     "text": [
      "LED OFF. . .\n",
      "Writing 0 to Arduino over Serial. . .\n"
     ]
    }
   ],
   "source": [
    "app = Flask(__name__, template_folder='templates')\n",
    "\n",
    "@app.route('/')\n",
    "def hello():\n",
    "    return render_template('main.html')\n",
    "\n",
    "@app.route('/', methods=['GET','POST'])\n",
    "def button():\n",
    "    # Open Serial Port for Arduino\n",
    "    #s = serial.Serial('COM4', 9600)\n",
    "\n",
    "    # Format ( request.form[name] == value )\n",
    "    if (request.method == 'POST'):\n",
    "        # LED ON Button\n",
    "        # Use \"serial_write()\" function above to send \"1\" to Arduino over Serial to turn ON LED\n",
    "        if (request.form['button'] == 'led_on'):\n",
    "            print('LED ON. . .')\n",
    "            serial_write(data='1')\n",
    "\n",
    "        # Use \"serial_write()\" function to send \"0\" to Arduino over Serial to turn OFF LED\n",
    "        elif (request.form['button'] == 'led_off'):\n",
    "            print('LED OFF. . .')\n",
    "            serial_write(data='0')\n",
    "            \n",
    "    return render_template('main.html')\n",
    "\n",
    "# Main Function\n",
    "if __name__ == '__main__':\n",
    "    app.run()"
   ]
  },
  {
   "cell_type": "code",
   "execution_count": null,
   "metadata": {},
   "outputs": [],
   "source": []
  }
 ],
 "metadata": {
  "kernelspec": {
   "display_name": "Python 3",
   "language": "python",
   "name": "python3"
  },
  "language_info": {
   "codemirror_mode": {
    "name": "ipython",
    "version": 3
   },
   "file_extension": ".py",
   "mimetype": "text/x-python",
   "name": "python",
   "nbconvert_exporter": "python",
   "pygments_lexer": "ipython3",
   "version": "3.6.2"
  }
 },
 "nbformat": 4,
 "nbformat_minor": 2
}
